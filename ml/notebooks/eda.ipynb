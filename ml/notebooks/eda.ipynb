{
 "cells": [
  {
   "cell_type": "markdown",
   "metadata": {},
   "source": [
    "# Exploratory Data Analysis (EDA)\n",
    "\n",
    "In this notebook, we will perform exploratory data analysis on the coconut leaf image dataset. The goal is to understand the data distribution, visualize the images, and identify any patterns or anomalies."
   ]
  },
  {
   "cell_type": "code",
   "execution_count": 1,
   "metadata": {},
   "outputs": [],
   "source": [
    "# Import necessary libraries\n",
    "import os\n",
    "import pandas as pd\n",
    "import matplotlib.pyplot as plt\n",
    "import seaborn as sns\n",
    "from PIL import Image\n",
    "\n",
    "# Set visualization style\n",
    "sns.set(style='whitegrid')"
   ]
  },
  {
   "cell_type": "code",
   "execution_count": 2,
   "metadata": {},
   "outputs": [],
   "source": [
    "# Define the path to the dataset\n",
    "data_path = '../data/annotated/'  # Adjust the path as necessary\n",
    "\n",
    "# List all images in the dataset\n",
    "image_files = [f for f in os.listdir(data_path) if f.endswith('.jpg') or f.endswith('.png')]\n",
    "print(f'Total images found: {len(image_files)}')"
   ]
  },
  {
   "cell_type": "code",
   "execution_count": 3,
   "metadata": {},
   "outputs": [],
   "source": [
    "# Display a few sample images\n",
    "plt.figure(figsize=(15, 10))\n",
    "for i, image_file in enumerate(image_files[:9]):  # Display first 9 images\n",
    "    img = Image.open(os.path.join(data_path, image_file))\n",
    "    plt.subplot(3, 3, i + 1)\n",
    "    plt.imshow(img)\n",
    "    plt.axis('off')\n",
    "    plt.title(image_file)\n",
    "plt.show()"
   ]
  },
  {
   "cell_type": "code",
   "execution_count": 4,
   "metadata": {},
   "outputs": [],
   "source": [
    "# Load labels and create a DataFrame\n",
    "# Assuming labels are stored in a CSV file\n",
    "labels_df = pd.read_csv('../data/annotations.csv')  # Adjust the path as necessary\n",
    "print(labels_df.head())"
   ]
  },
  {
   "cell_type": "code",
   "execution_count": 5,
   "metadata": {},
   "outputs": [],
   "source": [
    "# Visualize the distribution of classes\n",
    "plt.figure(figsize=(10, 6))\n",
    "sns.countplot(data=labels_df, x='label')\n",
    "plt.title('Distribution of Classes')\n",
    "plt.xticks(rotation=45)\n",
    "plt.show()"
   ]
  },
  {
   "cell_type": "markdown",
   "metadata": {},
   "source": [
    "## Conclusion\n",
    "\n",
    "In this EDA, we explored the coconut leaf image dataset, visualized some sample images, and analyzed the distribution of classes. Further analysis can be performed to understand the characteristics of the images and prepare for model training."
   ]
  }
 ],
 "metadata": {
  "kernelspec": {
   "display_name": "Python 3",
   "language": "python",
   "name": "python3"
  },
  "language_info": {
   "codemirror_mode": {
    "name": "ipython",
    "version": 3
   },
   "file_extension": ".py",
   "mimetype": "text/x-python",
   "name": "python",
   "nbconvert_exporter": "python",
   "pygments_lexer": "ipython3",
   "version": "3.8.5"
  }
 },
 "nbformat": 4,
 "nbformat_minor": 4
}